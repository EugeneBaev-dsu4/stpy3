{
 "cells": [
  {
   "cell_type": "markdown",
   "metadata": {},
   "source": [
    "## Домашнее задание\n",
    "Смоделировать игру против лотерейного автомата\n",
    "типа \"777\". Игрок платит 1 руб., после чего выпадает\n",
    "случайное целое число, равномерно распределенное\n",
    "от 0 до 999. При некоторых значениях числа игрок\n",
    "получает выигрыш:\\\n",
    "777: 200 руб.\\\n",
    "999: 100 руб.\\\n",
    "555: 50 руб.\\\n",
    "333: 15 руб.\\\n",
    "111: 10 руб.\\\n",
    " n77: 5 руб.\\\n",
    " nn7: 3 руб.\\\n",
    " n00: 2 руб.\\\n",
    " nn0: 1 руб.\\\n",
    " n – любая цифра"
   ]
  },
  {
   "cell_type": "markdown",
   "metadata": {},
   "source": [
    "Исхожу из небольшого дополнения условий: если рандомно выпадает двузначное или однозначное число, будем предполагать, что вначале стоят один или два 0, чтобы число было трехзначное"
   ]
  },
  {
   "cell_type": "code",
   "execution_count": 1,
   "metadata": {},
   "outputs": [],
   "source": [
    "import numpy as np"
   ]
  },
  {
   "cell_type": "code",
   "execution_count": 2,
   "metadata": {},
   "outputs": [
    {
     "data": {
      "text/plain": [
       "798231"
      ]
     },
     "execution_count": 2,
     "metadata": {},
     "output_type": "execute_result"
    }
   ],
   "source": [
    "trials = 1000000    # Количество попыток за 1 руб. каждая\n",
    "wins = 0    # Количество выигранных рублей\n",
    "\n",
    "for i in range(trials):\n",
    "    score = np.random.randint(0, 1000)    # Случайное количество очков от 0 до 999\n",
    "    if score == 777:\n",
    "        wins += 200\n",
    "    elif score == 999:\n",
    "        wins += 100\n",
    "    elif score == 555:\n",
    "        wins += 50\n",
    "    elif score == 333:\n",
    "        wins += 15\n",
    "    elif score == 111:\n",
    "        wins += 10\n",
    "    elif score % 100 == 77:\n",
    "        wins += 5\n",
    "    elif score % 10 == 7:\n",
    "        wins += 3\n",
    "    elif score % 100 == 0:\n",
    "        wins += 2\n",
    "    elif score % 10 == 0:\n",
    "        wins += 1\n",
    "wins #смотрим сколько заработаем за данное количество попыток"
   ]
  },
  {
   "cell_type": "code",
   "execution_count": 3,
   "metadata": {},
   "outputs": [
    {
     "data": {
      "text/plain": [
       "-0.201769"
      ]
     },
     "execution_count": 3,
     "metadata": {},
     "output_type": "execute_result"
    }
   ],
   "source": [
    "profitable = (wins - trials)/trials #считаем сколько сотавляют потери или прибыль на 1 попытку в среднем\n",
    "profitable"
   ]
  },
  {
   "cell_type": "markdown",
   "metadata": {},
   "source": [
    "Показательно видно, что в среднем теряем порядка 20 копеек с 1 рубля за попытку. То есть в расчете на 1 попытку игра невыгодна для игрока, но выгодность может менятся в зависимости от одной попытки к другой, так как все данные попытки в течение заданного времени могут совершать разные игроки и в конкретный период времени можно соравть джекпот и остановится, тогда игра окажется выгодной. "
   ]
  },
  {
   "cell_type": "markdown",
   "metadata": {},
   "source": [
    "## Вариант 2\n",
    "Это вариант, когда рандомно выдаются 3 цифры отдельно как в одноруком бандите."
   ]
  },
  {
   "cell_type": "code",
   "execution_count": 5,
   "metadata": {},
   "outputs": [
    {
     "data": {
      "text/plain": [
       "800342"
      ]
     },
     "execution_count": 5,
     "metadata": {},
     "output_type": "execute_result"
    }
   ],
   "source": [
    "trials = 1000000    # Количество попыток за 1 руб. каждая\n",
    "wins = 0    # Количество выигранных рублей\n",
    "\n",
    "for i in range(trials):\n",
    "    x = np.random.randint(0, 10)\n",
    "    y = np.random.randint(0, 10)# Случайное количество очков от 0 до 10\n",
    "    z = np.random.randint(0, 10)\n",
    "    if x == 7 and y == 7 and z == 7:\n",
    "        wins += 200\n",
    "    elif x == 9 and y == 9 and z == 9:\n",
    "        wins += 100\n",
    "    elif x == 5 and y == 5 and z == 5:\n",
    "        wins += 50\n",
    "    elif x == 3 and y == 3 and z == 3:\n",
    "        wins += 15\n",
    "    elif x == 1 and y == 1 and z == 1:\n",
    "        wins += 10\n",
    "    elif y == 7 and z == 7:\n",
    "        wins += 5\n",
    "    elif z == 7:\n",
    "        wins += 3\n",
    "    elif y == 0 and z == 0:\n",
    "        wins += 2\n",
    "    elif z == 0:\n",
    "        wins += 1\n",
    "wins #смотрим сколько заработаем за данное количество попыток"
   ]
  },
  {
   "cell_type": "code",
   "execution_count": 6,
   "metadata": {},
   "outputs": [
    {
     "data": {
      "text/plain": [
       "-0.199658"
      ]
     },
     "execution_count": 6,
     "metadata": {},
     "output_type": "execute_result"
    }
   ],
   "source": [
    "profitable = (wins - trials)/trials #считаем сколько сотавляют потери или прибыль на 1 попытку в среднем\n",
    "profitable"
   ]
  },
  {
   "cell_type": "markdown",
   "metadata": {},
   "source": [
    "В принципе результат похожий"
   ]
  },
  {
   "cell_type": "code",
   "execution_count": null,
   "metadata": {},
   "outputs": [],
   "source": []
  }
 ],
 "metadata": {
  "kernelspec": {
   "display_name": "Python 3",
   "language": "python",
   "name": "python3"
  },
  "language_info": {
   "codemirror_mode": {
    "name": "ipython",
    "version": 3
   },
   "file_extension": ".py",
   "mimetype": "text/x-python",
   "name": "python",
   "nbconvert_exporter": "python",
   "pygments_lexer": "ipython3",
   "version": "3.7.6"
  }
 },
 "nbformat": 4,
 "nbformat_minor": 4
}
